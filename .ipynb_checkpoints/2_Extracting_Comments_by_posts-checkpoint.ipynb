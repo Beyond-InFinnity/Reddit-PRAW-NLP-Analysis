{
 "cells": [
  {
   "cell_type": "code",
   "execution_count": 40,
   "id": "acc896f8-4473-4014-8cad-05efdef56b5b",
   "metadata": {},
   "outputs": [],
   "source": [
    "import os\n",
    "import pandas as pd\n",
    "#importing ast for converting strings of comments into their corresponding Python literals\n",
    "import ast\n",
    "#importing re for \n",
    "import re\n"
   ]
  },
  {
   "cell_type": "code",
   "execution_count": 69,
   "id": "f6d3d2f7-2c2b-4099-866f-9578c45a04aa",
   "metadata": {},
   "outputs": [],
   "source": [
    "file_path = 'scraping_data/politics_2024-06-27_19-22-34.csv'\n",
    "df = pd.read_csv(file_path)"
   ]
  },
  {
   "cell_type": "code",
   "execution_count": 70,
   "id": "eb1aa0f5-1378-4a98-b675-a8b0526d7c3d",
   "metadata": {},
   "outputs": [],
   "source": [
    "filtered_df = df.dropna(subset=['created_utc', 'title', 'comments'])\n"
   ]
  },
  {
   "cell_type": "code",
   "execution_count": 71,
   "id": "8c9191d3-9043-4277-b9bf-8efdbd74debb",
   "metadata": {},
   "outputs": [],
   "source": [
    "comments_data = {}\n",
    "for index, row in filtered_df.iterrows():\n",
    "    post_title = row['title']\n",
    "    #converting the comments into a list\n",
    "    post_comments = ast.literal_eval(row['comments'])\n",
    "    comments_df = pd.DataFrame(post_comments, columns=['comment_body', 'comment_score'])\n",
    "    comments_data[post_title] = comments_df"
   ]
  },
  {
   "cell_type": "code",
   "execution_count": 72,
   "id": "90a832de-e930-4bc6-92ae-1e2371bb425d",
   "metadata": {},
   "outputs": [],
   "source": [
    "# function to clean sheet names so \n",
    "def clean_sheet_name(sheet_name):\n",
    "    # replacing invalid chars with an underscore\n",
    "    cleaned_name = re.sub(r'[\\\\/*?:\"<>|]', \"_\", sheet_name)\n",
    "    # apparently Excel sheet names have a limit of 31 characters?\n",
    "    return cleaned_name[:31]"
   ]
  },
  {
   "cell_type": "code",
   "execution_count": null,
   "id": "7cbda04f-8c4d-41a9-b3e0-6b2e6b7e8a8d",
   "metadata": {},
   "outputs": [],
   "source": []
  },
  {
   "cell_type": "code",
   "execution_count": 73,
   "id": "e201c929-ead8-4649-9047-23f5c671c30f",
   "metadata": {},
   "outputs": [
    {
     "name": "stdout",
     "output_type": "stream",
     "text": [
      "Directory 'cleaned_data' already exists.\n"
     ]
    }
   ],
   "source": [
    "directory = 'cleaned_data'\n",
    "if not os.path.exists(directory):\n",
    "    os.makedirs(directory)\n",
    "    print(f\"Directory '{directory}' created.\")\n",
    "else:\n",
    "    print(f\"Directory '{directory}' already exists.\")\n"
   ]
  },
  {
   "cell_type": "code",
   "execution_count": 74,
   "id": "5acf14a4-ab8e-4eac-a4f6-5e69eda98052",
   "metadata": {},
   "outputs": [],
   "source": [
    "#creating new filename for excel sheet\n",
    "base_filename = os.path.basename(file_path)\n",
    "filename_wo_ext = os.path.splitext(base_filename)[0]\n",
    "new_filename = f\"{filename_wo_ext}_cleaned.xlsx\"\n",
    "excel_filepath = os.path.join(directory, new_filename)"
   ]
  },
  {
   "cell_type": "code",
   "execution_count": 75,
   "id": "5c038048-9da5-4668-906e-c2ae8ffe748f",
   "metadata": {},
   "outputs": [
    {
     "name": "stdout",
     "output_type": "stream",
     "text": [
      "Excel workbook saved to cleaned_data\\politics_2024-06-27_19-22-34_cleaned.xlsx\n"
     ]
    }
   ],
   "source": [
    "with pd.ExcelWriter(excel_filepath) as writer:\n",
    "    for post_title, comments_df in comments_data.items():\n",
    "        sheet_name = clean_sheet_name(post_title)\n",
    "        comments_df.to_excel(writer, sheet_name=sheet_name, index=False)\n",
    "\n",
    "print(f\"Excel workbook saved to {excel_filepath}\")"
   ]
  },
  {
   "cell_type": "code",
   "execution_count": null,
   "id": "618c834a-75a0-46a5-b77b-73148adb6bfb",
   "metadata": {},
   "outputs": [],
   "source": []
  },
  {
   "cell_type": "code",
   "execution_count": null,
   "id": "bddb67c1-aa0a-47e2-a578-5951a83608b7",
   "metadata": {},
   "outputs": [],
   "source": []
  }
 ],
 "metadata": {
  "kernelspec": {
   "display_name": "Python 3 (ipykernel)",
   "language": "python",
   "name": "python3"
  },
  "language_info": {
   "codemirror_mode": {
    "name": "ipython",
    "version": 3
   },
   "file_extension": ".py",
   "mimetype": "text/x-python",
   "name": "python",
   "nbconvert_exporter": "python",
   "pygments_lexer": "ipython3",
   "version": "3.10.11"
  }
 },
 "nbformat": 4,
 "nbformat_minor": 5
}
